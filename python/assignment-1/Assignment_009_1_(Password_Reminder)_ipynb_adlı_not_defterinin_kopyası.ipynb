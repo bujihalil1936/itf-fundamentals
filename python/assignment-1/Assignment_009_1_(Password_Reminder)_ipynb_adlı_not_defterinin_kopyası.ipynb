{
  "nbformat": 4,
  "nbformat_minor": 0,
  "metadata": {
    "colab": {
      "name": "Assignment-009/1 (Password Reminder).ipynb  adlı not defterinin kopyası",
      "provenance": []
    },
    "kernelspec": {
      "name": "python3",
      "display_name": "Python 3"
    },
    "language_info": {
      "name": "python"
    }
  },
  "cells": [
    {
      "cell_type": "markdown",
      "metadata": {
        "id": "-d4N6_QNXSL1"
      },
      "source": [
        "Task : Let's say; you left a message in the past that prints a password you need. To see the password you wrote, you need to enter your name and the program should recognize you.\n",
        "Write a program that \n",
        "\n",
        "1- Takes the first name from the user and compares it to yours,\n",
        "\n",
        "2- Then if the name the user entered is the same as yours, print out such as : \"Hello, Joseph! The password is : W@12\",\n",
        "\n",
        "3- If the name the user entered is not the same as yours, print out such as : \"Hello, Amina! See you later.\""
      ]
    },
    {
      "cell_type": "code",
      "metadata": {
        "colab": {
          "base_uri": "https://localhost:8080/"
        },
        "id": "QJkqsPDND7Gm",
        "outputId": "33a7283e-225a-46f8-ba0c-cea55eb4b79a"
      },
      "source": [
        "my_name = \"halil\".title()\n",
        "input_name = input(\"Please enter your name: \").title().strip()\n",
        "if my_name == input_name:\n",
        "    print(f\"Hello, {input_name}! The password is : W@12\")\n",
        "else:\n",
        "    print(f\"Hello, {input_name}! See you later.\")"
      ],
      "execution_count": null,
      "outputs": [
        {
          "output_type": "stream",
          "text": [
            "Please enter your name: halil\n",
            "Hello, Halil! The password is : W@12\n"
          ],
          "name": "stdout"
        }
      ]
    }
  ]
}