{
  "nbformat": 4,
  "nbformat_minor": 0,
  "metadata": {
    "colab": {
      "name": "Untitled26.ipynb",
      "provenance": []
    },
    "kernelspec": {
      "name": "python3",
      "display_name": "Python 3"
    },
    "language_info": {
      "name": "python"
    }
  },
  "cells": [
    {
      "cell_type": "code",
      "metadata": {
        "colab": {
          "base_uri": "https://localhost:8080/"
        },
        "id": "QJkqsPDND7Gm",
        "outputId": "33a7283e-225a-46f8-ba0c-cea55eb4b79a"
      },
      "source": [
        "my_name = \"halil\".title()\n",
        "input_name = input(\"Please enter your name: \").title().strip()\n",
        "if my_name == input_name:\n",
        "    print(f\"Hello, {input_name}! The password is : W@12\")\n",
        "else:\n",
        "    print(f\"Hello, {input_name}! See you later.\")"
      ],
      "execution_count": null,
      "outputs": [
        {
          "output_type": "stream",
          "text": [
            "Please enter your name: halil\n",
            "Hello, Halil! The password is : W@12\n"
          ],
          "name": "stdout"
        }
      ]
    }
  ]
}